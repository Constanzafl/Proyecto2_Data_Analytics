{
 "cells": [
  {
   "cell_type": "code",
   "execution_count": null,
   "metadata": {},
   "outputs": [],
   "source": [
    "import pandas as pd\n",
    "import matplotlib.pyplot as plt\n",
    "import seaborn as sns\n",
    "import numpy as np\n",
    "import datetime as dt\n",
    "import time as t\n",
    "import plotly.graph_objects as go\n",
    "sns.set()\n"
   ]
  },
  {
   "cell_type": "code",
   "execution_count": null,
   "metadata": {},
   "outputs": [],
   "source": [
    "pd.read_csv('')"
   ]
  },
  {
   "cell_type": "code",
   "execution_count": null,
   "metadata": {},
   "outputs": [],
   "source": [
    ".info()"
   ]
  },
  {
   "cell_type": "code",
   "execution_count": null,
   "metadata": {},
   "outputs": [],
   "source": [
    ".describe()"
   ]
  },
  {
   "cell_type": "code",
   "execution_count": null,
   "metadata": {},
   "outputs": [],
   "source": [
    "['FECHAS']=pd.to_datetime(['FECHAS'])"
   ]
  },
  {
   "cell_type": "code",
   "execution_count": null,
   "metadata": {},
   "outputs": [],
   "source": [
    "plt.figure(figsize=(10, 6))\n",
    "plt.plot(bitcoin['FECHAS'], bitcoin['PRECIO-usd'], label='Precio de Cierre')\n",
    "plt.title('Precio historico BITCOIN')\n",
    "plt.xlabel('Fecha')\n",
    "plt.ylabel('Precio')\n",
    "plt.legend()\n",
    "plt.grid(True)\n",
    "plt.show()"
   ]
  },
  {
   "cell_type": "code",
   "execution_count": null,
   "metadata": {},
   "outputs": [],
   "source": [
    "plt.figure(figsize=(10, 6))\n",
    "plt.plot(bitcoin['FECHAS'], bitcoin['MARKET_CAP-usd'], label='market cap', color='red')\n",
    "plt.title('Capitalizacion de mercado histórica BITCOIN')\n",
    "plt.xlabel('Fecha')\n",
    "plt.ylabel('Market Cap')\n",
    "plt.legend()\n",
    "plt.grid(True)\n",
    "plt.show()"
   ]
  },
  {
   "cell_type": "code",
   "execution_count": null,
   "metadata": {},
   "outputs": [],
   "source": [
    "plt.figure(figsize=(10, 6))\n",
    "plt.plot(bitcoin['FECHAS'], bitcoin['MARKET_CAP-usd'], label='market cap', color='red')\n",
    "plt.title('Capitalizacion de mercado histórica BITCOIN')\n",
    "plt.xlabel('Fecha')\n",
    "plt.ylabel('Market Cap')\n",
    "plt.legend()\n",
    "plt.grid(True)\n",
    "plt.show()"
   ]
  },
  {
   "cell_type": "code",
   "execution_count": null,
   "metadata": {},
   "outputs": [],
   "source": [
    "from ta.momentum import RSIIndicator\n",
    "\n",
    "# Calcular RSI\n",
    "rsi_period = 14  # Período típico para RSI\n",
    "indicator = RSIIndicator(price_history_bitcoin['usd'], window=rsi_period)\n",
    "price_history_bitcoin['RSI'] = indicator.rsi()\n",
    "\n",
    "price_history_bitcoin.tail()"
   ]
  },
  {
   "cell_type": "code",
   "execution_count": null,
   "metadata": {},
   "outputs": [],
   "source": [
    "import matplotlib.pyplot as plt\n",
    "\n",
    "# Graficar el RSI\n",
    "plt.figure(figsize=(10, 6))\n",
    "plt.plot(price_history_bitcoin['FECHAS'], price_history_bitcoin['RSI'], label='RSI')\n",
    "plt.axhline(y=70, color='r', linestyle='--', label='Overbought (70)')\n",
    "plt.axhline(y=30, color='g', linestyle='--', label='Oversold (30)')\n",
    "plt.title('Índice de Fuerza Relativa (RSI)')\n",
    "plt.xlabel('Fecha')\n",
    "plt.ylabel('RSI')\n",
    "plt.legend()\n",
    "plt.grid(True)\n",
    "plt.show()"
   ]
  },
  {
   "cell_type": "code",
   "execution_count": null,
   "metadata": {},
   "outputs": [],
   "source": [
    "rolling_window = 50\n",
    "price_history_bitcoin['MovingAverage'] = price_history_bitcoin['usd'].rolling(window=rolling_window).mean()\n",
    "\n",
    "print(price_history_bitcoin.head())"
   ]
  },
  {
   "cell_type": "code",
   "execution_count": null,
   "metadata": {},
   "outputs": [],
   "source": [
    "# Graficar los datos y la media móvil\n",
    "plt.figure(figsize=(10, 6))\n",
    "plt.plot(price_history_bitcoin['FECHAS'], price_history_bitcoin['usd'], label='Precio de Cierre')\n",
    "plt.plot(price_history_bitcoin['FECHAS'], price_history_bitcoin['MovingAverage'], label=f'Media Móvil ({rolling_window} días)')\n",
    "plt.title('Precio de la Criptomoneda con Media Móvil')\n",
    "plt.xlabel('Fecha')\n",
    "plt.ylabel('Precio')\n",
    "plt.legend()\n",
    "plt.grid(True)\n",
    "plt.show()"
   ]
  }
 ],
 "metadata": {
  "language_info": {
   "name": "python"
  },
  "orig_nbformat": 4
 },
 "nbformat": 4,
 "nbformat_minor": 2
}
