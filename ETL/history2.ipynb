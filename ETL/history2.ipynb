{
 "cells": [
  {
   "cell_type": "markdown",
   "metadata": {},
   "source": [
    "# Datos historicos de las 10 criptomonedas\n",
    "* Desde=\n",
    "* Hasta"
   ]
  },
  {
   "cell_type": "code",
   "execution_count": 1,
   "metadata": {},
   "outputs": [],
   "source": [
    "import pandas as pd\n",
    "import datetime as dt\n",
    "import time as t\n",
    "import plotly.graph_objects as go\n",
    "from plotly.offline import plot\n"
   ]
  },
  {
   "cell_type": "code",
   "execution_count": 2,
   "metadata": {},
   "outputs": [],
   "source": [
    "import requests\n",
    "base_url = \"https://api.coingecko.com/api/v3\""
   ]
  },
  {
   "cell_type": "code",
   "execution_count": 6,
   "metadata": {},
   "outputs": [],
   "source": [
    "# Con esta funcion me conecto a la funcion que trae datos historicos, elijo market cap, total vol y precio todo en USD\n",
    "def get_price_and_market_cap(coin_id, start_date, end_date):\n",
    "    endpoint = f\"/coins/{coin_id}/market_chart/range\"\n",
    "    params = {\n",
    "        \"vs_currency\": \"usd\",\n",
    "        \"from\": start_date,\n",
    "        \"to\": end_date\n",
    "    }\n",
    "    url = base_url + endpoint\n",
    "    response = requests.get(url, params=params)\n",
    "    data = response.json()\n",
    "    \n",
    "    prices = data.get(\"prices\", [])\n",
    "    market_caps = data.get(\"market_caps\", [])\n",
    "    total_volumes = data.get(\"total_volumes\", [])\n",
    "    \n",
    "    # Crear DataFrames para precios, capitalización de mercado y volúmenes totales\n",
    "    price_df = pd.DataFrame(prices, columns=[\"FECHAS\", \"PRECIO-usd\"])\n",
    "    price_df[\"FECHAS\"] = pd.to_datetime(price_df[\"FECHAS\"], unit=\"ms\")\n",
    "    \n",
    "    market_cap_df = pd.DataFrame(market_caps, columns=[\"FECHAS\", \"MARKET_CAP-usd\"])\n",
    "    market_cap_df[\"FECHAS\"] = pd.to_datetime(market_cap_df[\"FECHAS\"], unit=\"ms\")\n",
    "    \n",
    "    volume_df = pd.DataFrame(total_volumes, columns=[\"FECHAS\", \"TOTAL_VOLUMES\"])\n",
    "    volume_df[\"FECHAS\"] = pd.to_datetime(volume_df[\"FECHAS\"], unit=\"ms\")\n",
    "    \n",
    "    # Combinar DataFrames\n",
    "    df = pd.merge(price_df, market_cap_df, on=\"FECHAS\", how=\"inner\")\n",
    "    df = pd.merge(df, volume_df, on=\"FECHAS\", how=\"inner\")\n",
    "    \n",
    "    df[\"COIN_ID\"] = coin_id\n",
    "    \n",
    "    return df"
   ]
  },
  {
   "cell_type": "code",
   "execution_count": 4,
   "metadata": {},
   "outputs": [
    {
     "name": "stdout",
     "output_type": "stream",
     "text": [
      "1577890800\n"
     ]
    }
   ],
   "source": [
    "### de esta manera transformo una fecha y un horario a UNIX\n",
    "from datetime import datetime\n",
    "\n",
    "# Especifica la fecha y hora deseada\n",
    "fecha_deseada = datetime(2020, 1, 1, 12, 0, 0)\n",
    "\n",
    "# Calcula el valor de marca de tiempo UNIX\n",
    "timestamp_unix = int(fecha_deseada.timestamp())\n",
    "\n",
    "print(timestamp_unix)"
   ]
  },
  {
   "cell_type": "code",
   "execution_count": 5,
   "metadata": {},
   "outputs": [
    {
     "name": "stdout",
     "output_type": "stream",
     "text": [
      "1692543600\n"
     ]
    }
   ],
   "source": [
    "from datetime import datetime\n",
    "\n",
    "# Especifica la fecha y hora deseada\n",
    "fecha_deseada = datetime(2023, 8, 20, 12, 0, 0)\n",
    "\n",
    "# Calcula el valor de marca de tiempo UNIX\n",
    "timestamp_unix = int(fecha_deseada.timestamp())\n",
    "\n",
    "print(timestamp_unix)"
   ]
  },
  {
   "cell_type": "code",
   "execution_count": 7,
   "metadata": {},
   "outputs": [
    {
     "data": {
      "text/html": [
       "<div>\n",
       "<style scoped>\n",
       "    .dataframe tbody tr th:only-of-type {\n",
       "        vertical-align: middle;\n",
       "    }\n",
       "\n",
       "    .dataframe tbody tr th {\n",
       "        vertical-align: top;\n",
       "    }\n",
       "\n",
       "    .dataframe thead th {\n",
       "        text-align: right;\n",
       "    }\n",
       "</style>\n",
       "<table border=\"1\" class=\"dataframe\">\n",
       "  <thead>\n",
       "    <tr style=\"text-align: right;\">\n",
       "      <th></th>\n",
       "      <th>FECHAS</th>\n",
       "      <th>PRECIO-usd</th>\n",
       "      <th>MARKET_CAP-usd</th>\n",
       "      <th>TOTAL_VOLUMES</th>\n",
       "      <th>COIN_ID</th>\n",
       "    </tr>\n",
       "  </thead>\n",
       "  <tbody>\n",
       "    <tr>\n",
       "      <th>0</th>\n",
       "      <td>2020-01-02</td>\n",
       "      <td>7193.754668</td>\n",
       "      <td>1.304230e+11</td>\n",
       "      <td>1.812352e+10</td>\n",
       "      <td>bitcoin</td>\n",
       "    </tr>\n",
       "    <tr>\n",
       "      <th>1</th>\n",
       "      <td>2020-01-03</td>\n",
       "      <td>6963.853354</td>\n",
       "      <td>1.262808e+11</td>\n",
       "      <td>2.031319e+10</td>\n",
       "      <td>bitcoin</td>\n",
       "    </tr>\n",
       "    <tr>\n",
       "      <th>2</th>\n",
       "      <td>2020-01-04</td>\n",
       "      <td>7300.346935</td>\n",
       "      <td>1.327663e+11</td>\n",
       "      <td>3.101578e+10</td>\n",
       "      <td>bitcoin</td>\n",
       "    </tr>\n",
       "    <tr>\n",
       "      <th>3</th>\n",
       "      <td>2020-01-05</td>\n",
       "      <td>7351.377053</td>\n",
       "      <td>1.334747e+11</td>\n",
       "      <td>2.061164e+10</td>\n",
       "      <td>bitcoin</td>\n",
       "    </tr>\n",
       "    <tr>\n",
       "      <th>4</th>\n",
       "      <td>2020-01-06</td>\n",
       "      <td>7349.972248</td>\n",
       "      <td>1.333890e+11</td>\n",
       "      <td>2.192922e+10</td>\n",
       "      <td>bitcoin</td>\n",
       "    </tr>\n",
       "    <tr>\n",
       "      <th>...</th>\n",
       "      <td>...</td>\n",
       "      <td>...</td>\n",
       "      <td>...</td>\n",
       "      <td>...</td>\n",
       "      <td>...</td>\n",
       "    </tr>\n",
       "    <tr>\n",
       "      <th>1322</th>\n",
       "      <td>2023-08-16</td>\n",
       "      <td>29170.490397</td>\n",
       "      <td>5.674983e+11</td>\n",
       "      <td>1.152340e+10</td>\n",
       "      <td>bitcoin</td>\n",
       "    </tr>\n",
       "    <tr>\n",
       "      <th>1323</th>\n",
       "      <td>2023-08-17</td>\n",
       "      <td>28754.197021</td>\n",
       "      <td>5.599826e+11</td>\n",
       "      <td>1.480998e+10</td>\n",
       "      <td>bitcoin</td>\n",
       "    </tr>\n",
       "    <tr>\n",
       "      <th>1324</th>\n",
       "      <td>2023-08-18</td>\n",
       "      <td>26501.587270</td>\n",
       "      <td>5.160269e+11</td>\n",
       "      <td>2.996559e+10</td>\n",
       "      <td>bitcoin</td>\n",
       "    </tr>\n",
       "    <tr>\n",
       "      <th>1325</th>\n",
       "      <td>2023-08-19</td>\n",
       "      <td>26042.838257</td>\n",
       "      <td>5.068158e+11</td>\n",
       "      <td>1.806235e+10</td>\n",
       "      <td>bitcoin</td>\n",
       "    </tr>\n",
       "    <tr>\n",
       "      <th>1326</th>\n",
       "      <td>2023-08-20</td>\n",
       "      <td>26104.778631</td>\n",
       "      <td>5.080877e+11</td>\n",
       "      <td>3.355039e+09</td>\n",
       "      <td>bitcoin</td>\n",
       "    </tr>\n",
       "  </tbody>\n",
       "</table>\n",
       "<p>1327 rows × 5 columns</p>\n",
       "</div>"
      ],
      "text/plain": [
       "         FECHAS    PRECIO-usd  MARKET_CAP-usd  TOTAL_VOLUMES  COIN_ID\n",
       "0    2020-01-02   7193.754668    1.304230e+11   1.812352e+10  bitcoin\n",
       "1    2020-01-03   6963.853354    1.262808e+11   2.031319e+10  bitcoin\n",
       "2    2020-01-04   7300.346935    1.327663e+11   3.101578e+10  bitcoin\n",
       "3    2020-01-05   7351.377053    1.334747e+11   2.061164e+10  bitcoin\n",
       "4    2020-01-06   7349.972248    1.333890e+11   2.192922e+10  bitcoin\n",
       "...         ...           ...             ...            ...      ...\n",
       "1322 2023-08-16  29170.490397    5.674983e+11   1.152340e+10  bitcoin\n",
       "1323 2023-08-17  28754.197021    5.599826e+11   1.480998e+10  bitcoin\n",
       "1324 2023-08-18  26501.587270    5.160269e+11   2.996559e+10  bitcoin\n",
       "1325 2023-08-19  26042.838257    5.068158e+11   1.806235e+10  bitcoin\n",
       "1326 2023-08-20  26104.778631    5.080877e+11   3.355039e+09  bitcoin\n",
       "\n",
       "[1327 rows x 5 columns]"
      ]
     },
     "execution_count": 7,
     "metadata": {},
     "output_type": "execute_result"
    }
   ],
   "source": [
    "coin_id = \"bitcoin\"  # Reemplaza con el ID de la moneda que deseas analizar\n",
    "start_date = \"1577890800\"  # Fecha de inicio enero 2020\n",
    "end_date = \"1692543600\"    # 20 Agosto 2023\n",
    "\n",
    "price_history_bitcoin2 = get_price_and_market_cap(coin_id, start_date, end_date)\n",
    "\n",
    "price_history_bitcoin2"
   ]
  },
  {
   "cell_type": "code",
   "execution_count": 8,
   "metadata": {},
   "outputs": [
    {
     "name": "stdout",
     "output_type": "stream",
     "text": [
      "<class 'pandas.core.frame.DataFrame'>\n",
      "RangeIndex: 1327 entries, 0 to 1326\n",
      "Data columns (total 5 columns):\n",
      " #   Column          Non-Null Count  Dtype         \n",
      "---  ------          --------------  -----         \n",
      " 0   FECHAS          1327 non-null   datetime64[ns]\n",
      " 1   PRECIO-usd      1327 non-null   float64       \n",
      " 2   MARKET_CAP-usd  1327 non-null   float64       \n",
      " 3   TOTAL_VOLUMES   1327 non-null   float64       \n",
      " 4   COIN_ID         1327 non-null   object        \n",
      "dtypes: datetime64[ns](1), float64(3), object(1)\n",
      "memory usage: 52.0+ KB\n"
     ]
    }
   ],
   "source": [
    "price_history_bitcoin2.info()"
   ]
  },
  {
   "cell_type": "code",
   "execution_count": 9,
   "metadata": {},
   "outputs": [],
   "source": [
    "price_history_bitcoin2.to_csv('bitcoin.csv', index=False)"
   ]
  }
 ],
 "metadata": {
  "kernelspec": {
   "display_name": "Python 3",
   "language": "python",
   "name": "python3"
  },
  "language_info": {
   "codemirror_mode": {
    "name": "ipython",
    "version": 3
   },
   "file_extension": ".py",
   "mimetype": "text/x-python",
   "name": "python",
   "nbconvert_exporter": "python",
   "pygments_lexer": "ipython3",
   "version": "3.11.1"
  },
  "orig_nbformat": 4
 },
 "nbformat": 4,
 "nbformat_minor": 2
}
