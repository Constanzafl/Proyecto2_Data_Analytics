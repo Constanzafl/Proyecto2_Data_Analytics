{
 "cells": [
  {
   "cell_type": "markdown",
   "metadata": {},
   "source": [
    "# Categorias\n",
    "* En este archivo me conecto con la api y creo un DF que contenga las categorias de cada criptomoneda, para luego crear un CSV"
   ]
  },
  {
   "cell_type": "code",
   "execution_count": 12,
   "metadata": {},
   "outputs": [],
   "source": [
    "import pandas as pd\n",
    "import datetime as dt\n"
   ]
  },
  {
   "cell_type": "code",
   "execution_count": 13,
   "metadata": {},
   "outputs": [],
   "source": [
    "import requests\n",
    "base_url = \"https://api.coingecko.com/api/v3\"\n",
    "def get_coin_categories():\n",
    "    endpoint = \"/coins/list\"\n",
    "    url = base_url + endpoint\n",
    "    response = requests.get(url)\n",
    "    data = response.json()\n",
    "    return data"
   ]
  },
  {
   "cell_type": "code",
   "execution_count": 26,
   "metadata": {},
   "outputs": [],
   "source": [
    "def get_category_for_crypto(crypto_name):\n",
    "    coins_list = get_coin_categories()\n",
    "    for coin in coins_list:\n",
    "        if coin[\"name\"] == crypto_name:\n",
    "            coin_id = coin[\"id\"]\n",
    "            break\n",
    "    else:\n",
    "        return \"Criptomoneda no encontrada\"\n",
    "    \n",
    "    endpoint = f\"/coins/{coin_id}\"\n",
    "    url = base_url + endpoint\n",
    "    response = requests.get(url)\n",
    "    data = response.json()\n",
    "    categories = data.get(\"categories\", [])\n",
    "    return categories"
   ]
  },
  {
   "cell_type": "code",
   "execution_count": 27,
   "metadata": {},
   "outputs": [
    {
     "name": "stdout",
     "output_type": "stream",
     "text": [
      "Categorías: ['Cryptocurrency', 'Layer 1 (L1)']\n"
     ]
    }
   ],
   "source": [
    "# Reemplazo con el nombre de la criptomoneda que desees buscar\n",
    "categories = get_category_for_crypto(\"Bitcoin\")\n",
    "print(\"Categorías:\", categories)"
   ]
  },
  {
   "cell_type": "code",
   "execution_count": 28,
   "metadata": {},
   "outputs": [
    {
     "name": "stdout",
     "output_type": "stream",
     "text": [
      "Categorías: ['Smart Contract Platform', 'Layer 1 (L1)', 'Ethereum Ecosystem']\n"
     ]
    }
   ],
   "source": [
    "# Reemplazo con el nombre de la criptomoneda que desees buscar\n",
    "categories2 = get_category_for_crypto(\"Ethereum\")\n",
    "print(\"Categorías:\", categories2)"
   ]
  },
  {
   "cell_type": "code",
   "execution_count": 29,
   "metadata": {},
   "outputs": [
    {
     "name": "stdout",
     "output_type": "stream",
     "text": [
      "Categorías: ['Mantle Ecosystem', 'Stablecoins', 'USD Stablecoin', 'BNB Chain Ecosystem', 'Arbitrum Ecosystem', 'Solana Ecosystem', 'Gnosis Chain Ecosystem', 'Avalanche Ecosystem', 'Moonriver Ecosystem', 'Harmony Ecosystem', 'Near Protocol Ecosystem', 'Fantom Ecosystem', 'Polygon Ecosystem', 'Moonbeam Ecosystem', 'Tezos Ecosystem', 'Cronos Ecosystem', 'Metis Ecosystem', 'Velas Ecosystem', 'EthereumPoW Ecosystem', 'Optimism Ecosystem', 'Ethereum Ecosystem', 'Canto Ecosystem']\n"
     ]
    }
   ],
   "source": [
    "# Reemplazo con el nombre de la criptomoneda que desees buscar\n",
    "categories3 = get_category_for_crypto('Tether')\n",
    "print(\"Categorías:\", categories3)"
   ]
  },
  {
   "cell_type": "code",
   "execution_count": 30,
   "metadata": {},
   "outputs": [
    {
     "name": "stdout",
     "output_type": "stream",
     "text": [
      "Categorías: ['Alleged SEC Securities', 'Smart Contract Platform', 'Exchange-based Tokens', 'BNB Chain Ecosystem', 'Centralized Exchange (CEX)', 'Avalanche Ecosystem', 'Moonriver Ecosystem', 'Layer 1 (L1)', 'Polygon Ecosystem', 'Ethereum Ecosystem']\n"
     ]
    }
   ],
   "source": [
    "# Reemplaza con el nombre de la criptomoneda que desees buscar\n",
    "categories4 = get_category_for_crypto('BNB')\n",
    "print(\"Categorías:\", categories4)"
   ]
  },
  {
   "cell_type": "code",
   "execution_count": 31,
   "metadata": {},
   "outputs": [
    {
     "name": "stdout",
     "output_type": "stream",
     "text": [
      "Categorías: ['Cryptocurrency']\n"
     ]
    }
   ],
   "source": [
    "  # Reemplaza con el nombre de la criptomoneda que desees buscar\n",
    "categories5 = get_category_for_crypto(\"XRP\")\n",
    "print(\"Categorías:\", categories5)"
   ]
  },
  {
   "cell_type": "code",
   "execution_count": 37,
   "metadata": {},
   "outputs": [
    {
     "name": "stdout",
     "output_type": "stream",
     "text": [
      "Categorías: ['Mantle Ecosystem', 'Stablecoins', 'USD Stablecoin', 'BNB Chain Ecosystem', 'Arbitrum Ecosystem', 'Solana Ecosystem', 'Gnosis Chain Ecosystem', 'Avalanche Ecosystem', 'Moonriver Ecosystem', 'Harmony Ecosystem', 'Near Protocol Ecosystem', 'Fantom Ecosystem', 'Polygon Ecosystem', 'Moonbeam Ecosystem', 'Cronos Ecosystem', 'Metis Ecosystem', 'Arbitrum Nova Ecosystem', 'Velas Ecosystem', 'Optimism Ecosystem', 'Ethereum Ecosystem', 'ZkSync Ecosystem', 'Canto Ecosystem']\n"
     ]
    }
   ],
   "source": [
    "categories6 = get_category_for_crypto(\"USD Coin\")\n",
    "print(\"Categorías:\", categories6)"
   ]
  },
  {
   "cell_type": "code",
   "execution_count": null,
   "metadata": {},
   "outputs": [
    {
     "data": {
      "text/plain": [
       "list"
      ]
     },
     "execution_count": 93,
     "metadata": {},
     "output_type": "execute_result"
    }
   ],
   "source": [
    "type(categories6)"
   ]
  },
  {
   "cell_type": "code",
   "execution_count": 38,
   "metadata": {},
   "outputs": [
    {
     "name": "stdout",
     "output_type": "stream",
     "text": [
      "Categorías: ['Decentralized Finance (DeFi)', 'Eth 2.0 Staking', 'Ethereum Ecosystem', 'Liquid Staking Tokens']\n"
     ]
    }
   ],
   "source": [
    "categories7 = get_category_for_crypto(\"Lido Staked Ether\")\n",
    "print(\"Categorías:\", categories7)"
   ]
  },
  {
   "cell_type": "code",
   "execution_count": null,
   "metadata": {},
   "outputs": [
    {
     "name": "stdout",
     "output_type": "stream",
     "text": [
      "Categorías: ['Alleged SEC Securities', 'Smart Contract Platform', 'Layer 1 (L1)', 'Cardano Ecosystem']\n"
     ]
    }
   ],
   "source": [
    "crypto_name8 = \"Cardano\"  # Reemplaza con el nombre o símbolo de la criptomoneda que desees buscar\n",
    "categories8 = get_category_for_crypto(crypto_name8)\n",
    "print(\"Categorías:\", categories8)"
   ]
  },
  {
   "cell_type": "code",
   "execution_count": null,
   "metadata": {},
   "outputs": [
    {
     "name": "stdout",
     "output_type": "stream",
     "text": [
      "Categorías: ['Alleged SEC Securities', 'Smart Contract Platform', 'Solana Ecosystem', 'Layer 1 (L1)']\n"
     ]
    }
   ],
   "source": [
    "crypto_name9 = \"Solana\"  # Reemplaza con el nombre o símbolo de la criptomoneda que desees buscar\n",
    "categories9 = get_category_for_crypto(crypto_name9)\n",
    "print(\"Categorías:\", categories9)"
   ]
  },
  {
   "cell_type": "code",
   "execution_count": null,
   "metadata": {},
   "outputs": [
    {
     "name": "stdout",
     "output_type": "stream",
     "text": [
      "Categorías: ['Cryptocurrency', 'BNB Chain Ecosystem', 'Meme']\n"
     ]
    }
   ],
   "source": [
    "crypto_name10 = \"Dogecoin\"  # Reemplaza con el nombre o símbolo de la criptomoneda que desees buscar\n",
    "categories10 = get_category_for_crypto(crypto_name10)\n",
    "print(\"Categorías:\", categories10)"
   ]
  },
  {
   "cell_type": "code",
   "execution_count": null,
   "metadata": {},
   "outputs": [
    {
     "name": "stdout",
     "output_type": "stream",
     "text": [
      "{'Bitcoin': ['Cryptocurrency', 'Layer 1 (L1)'], 'BNB': ['Alleged SEC Securities', 'Smart Contract Platform', 'Exchange-based Tokens', 'Centralized Exchange (CEX)', 'BNB Chain Ecosystem', 'Polygon Ecosystem', 'Layer 1 (L1)', 'Avalanche Ecosystem', 'Moonriver Ecosystem', 'Ethereum Ecosystem'], 'Tether': ['Mantle Ecosystem', 'Stablecoins', 'USD Stablecoin', 'BNB Chain Ecosystem', 'Solana Ecosystem', 'Polygon Ecosystem', 'Gnosis Chain Ecosystem', 'Arbitrum Ecosystem', 'Avalanche Ecosystem', 'Harmony Ecosystem', 'Moonriver Ecosystem', 'Near Protocol Ecosystem', 'Fantom Ecosystem', 'Moonbeam Ecosystem', 'Tezos Ecosystem', 'Cronos Ecosystem', 'Metis Ecosystem', 'Velas Ecosystem', 'EthereumPoW Ecosystem', 'Optimism Ecosystem', 'Ethereum Ecosystem', 'Canto Ecosystem'], 'XRP': ['Cryptocurrency'], 'USD Coin': ['Mantle Ecosystem', 'Stablecoins', 'USD Stablecoin', 'BNB Chain Ecosystem', 'Solana Ecosystem', 'Polygon Ecosystem', 'Gnosis Chain Ecosystem', 'Arbitrum Ecosystem', 'Avalanche Ecosystem', 'Harmony Ecosystem', 'Moonriver Ecosystem', 'Near Protocol Ecosystem', 'Fantom Ecosystem', 'Moonbeam Ecosystem', 'Cronos Ecosystem', 'Metis Ecosystem', 'Arbitrum Nova Ecosystem', 'Velas Ecosystem', 'Optimism Ecosystem', 'Ethereum Ecosystem', 'ZkSync Ecosystem', 'Canto Ecosystem'], 'Lido Staked Ether': ['Decentralized Finance (DeFi)', 'Eth 2.0 Staking', 'Liquid Staking Tokens', 'Ethereum Ecosystem'], 'Cardano': ['Alleged SEC Securities', 'Smart Contract Platform', 'Layer 1 (L1)', 'Cardano Ecosystem'], 'Solana': ['Alleged SEC Securities', 'Smart Contract Platform', 'Solana Ecosystem', 'Layer 1 (L1)'], 'Dogecoin': ['Cryptocurrency', 'BNB Chain Ecosystem', 'Meme']}\n"
     ]
    }
   ],
   "source": [
    "keys = [crypto_name, crypto_name2, crypto_name3, crypto_name4, crypto_name5, crypto_name6,crypto_name7,crypto_name8,crypto_name9,crypto_name10]\n",
    "values = [categories, categories2, categories3, categories4, categories5, categories6, categories7, categories8, categories9, categories10]\n",
    "\n",
    "# Crear un diccionario utilizando comprensión de listas y la función zip()\n",
    "my_dict = {k: v for k, v in zip(keys, values)}\n",
    "\n",
    "print(my_dict)"
   ]
  },
  {
   "cell_type": "code",
   "execution_count": 39,
   "metadata": {},
   "outputs": [
    {
     "name": "stdout",
     "output_type": "stream",
     "text": [
      "                                                          Categories\n",
      "Bitcoin                                 Cryptocurrency, Layer 1 (L1)\n",
      "BNB                Alleged SEC Securities, Smart Contract Platfor...\n",
      "Tether             Mantle Ecosystem, Stablecoins, USD Stablecoin,...\n",
      "XRP                                                   Cryptocurrency\n",
      "USD Coin           Mantle Ecosystem, Stablecoins, USD Stablecoin,...\n",
      "Lido Staked Ether  Decentralized Finance (DeFi), Eth 2.0 Staking,...\n",
      "Cardano            Alleged SEC Securities, Smart Contract Platfor...\n",
      "Solana             Alleged SEC Securities, Smart Contract Platfor...\n",
      "Dogecoin                   Cryptocurrency, BNB Chain Ecosystem, Meme\n"
     ]
    }
   ],
   "source": [
    "\n",
    "data = {\n",
    "    'Bitcoin': ['Cryptocurrency', 'Layer 1 (L1)'],\n",
    "    'BNB': ['Alleged SEC Securities', 'Smart Contract Platform', 'Exchange-based Tokens', 'Centralized Exchange (CEX)', 'BNB Chain Ecosystem', 'Polygon Ecosystem', 'Layer 1 (L1)', 'Avalanche Ecosystem', 'Moonriver Ecosystem', 'Ethereum Ecosystem'],\n",
    "    'Tether': ['Mantle Ecosystem', 'Stablecoins', 'USD Stablecoin', 'BNB Chain Ecosystem', 'Solana Ecosystem', 'Polygon Ecosystem', 'Gnosis Chain Ecosystem', 'Arbitrum Ecosystem', 'Avalanche Ecosystem', 'Harmony Ecosystem', 'Moonriver Ecosystem', 'Near Protocol Ecosystem', 'Fantom Ecosystem', 'Moonbeam Ecosystem', 'Tezos Ecosystem', 'Cronos Ecosystem', 'Metis Ecosystem', 'Velas Ecosystem', 'EthereumPoW Ecosystem', 'Optimism Ecosystem', 'Ethereum Ecosystem', 'Canto Ecosystem'],\n",
    "    'XRP': ['Cryptocurrency'],\n",
    "    'USD Coin': ['Mantle Ecosystem', 'Stablecoins', 'USD Stablecoin', 'BNB Chain Ecosystem', 'Solana Ecosystem', 'Polygon Ecosystem', 'Gnosis Chain Ecosystem', 'Arbitrum Ecosystem', 'Avalanche Ecosystem', 'Harmony Ecosystem', 'Moonriver Ecosystem', 'Near Protocol Ecosystem', 'Fantom Ecosystem', 'Moonbeam Ecosystem', 'Cronos Ecosystem', 'Metis Ecosystem', 'Arbitrum Nova Ecosystem', 'Velas Ecosystem', 'Optimism Ecosystem', 'Ethereum Ecosystem', 'ZkSync Ecosystem', 'Canto Ecosystem'],\n",
    "    'Lido Staked Ether': ['Decentralized Finance (DeFi)', 'Eth 2.0 Staking', 'Liquid Staking Tokens', 'Ethereum Ecosystem'],\n",
    "    'Cardano': ['Alleged SEC Securities', 'Smart Contract Platform', 'Layer 1 (L1)', 'Cardano Ecosystem'],\n",
    "    'Solana': ['Alleged SEC Securities', 'Smart Contract Platform', 'Solana Ecosystem', 'Layer 1 (L1)'],\n",
    "    'Dogecoin': ['Cryptocurrency', 'BNB Chain Ecosystem', 'Meme']\n",
    "}\n",
    "\n",
    "# Convertir la lista de categorías en cadenas separadas por comas\n",
    "data = {crypto: ', '.join(categories) for crypto, categories in data.items()}\n",
    "\n",
    "df = pd.DataFrame.from_dict(data, orient='index', columns=['Categories'])\n",
    "\n",
    "print(df)"
   ]
  },
  {
   "cell_type": "code",
   "execution_count": 40,
   "metadata": {},
   "outputs": [
    {
     "data": {
      "text/html": [
       "<div>\n",
       "<style scoped>\n",
       "    .dataframe tbody tr th:only-of-type {\n",
       "        vertical-align: middle;\n",
       "    }\n",
       "\n",
       "    .dataframe tbody tr th {\n",
       "        vertical-align: top;\n",
       "    }\n",
       "\n",
       "    .dataframe thead th {\n",
       "        text-align: right;\n",
       "    }\n",
       "</style>\n",
       "<table border=\"1\" class=\"dataframe\">\n",
       "  <thead>\n",
       "    <tr style=\"text-align: right;\">\n",
       "      <th></th>\n",
       "      <th>Categories</th>\n",
       "    </tr>\n",
       "  </thead>\n",
       "  <tbody>\n",
       "    <tr>\n",
       "      <th>Bitcoin</th>\n",
       "      <td>Cryptocurrency, Layer 1 (L1)</td>\n",
       "    </tr>\n",
       "    <tr>\n",
       "      <th>BNB</th>\n",
       "      <td>Alleged SEC Securities, Smart Contract Platfor...</td>\n",
       "    </tr>\n",
       "    <tr>\n",
       "      <th>Tether</th>\n",
       "      <td>Mantle Ecosystem, Stablecoins, USD Stablecoin,...</td>\n",
       "    </tr>\n",
       "    <tr>\n",
       "      <th>XRP</th>\n",
       "      <td>Cryptocurrency</td>\n",
       "    </tr>\n",
       "    <tr>\n",
       "      <th>USD Coin</th>\n",
       "      <td>Mantle Ecosystem, Stablecoins, USD Stablecoin,...</td>\n",
       "    </tr>\n",
       "    <tr>\n",
       "      <th>Lido Staked Ether</th>\n",
       "      <td>Decentralized Finance (DeFi), Eth 2.0 Staking,...</td>\n",
       "    </tr>\n",
       "    <tr>\n",
       "      <th>Cardano</th>\n",
       "      <td>Alleged SEC Securities, Smart Contract Platfor...</td>\n",
       "    </tr>\n",
       "    <tr>\n",
       "      <th>Solana</th>\n",
       "      <td>Alleged SEC Securities, Smart Contract Platfor...</td>\n",
       "    </tr>\n",
       "    <tr>\n",
       "      <th>Dogecoin</th>\n",
       "      <td>Cryptocurrency, BNB Chain Ecosystem, Meme</td>\n",
       "    </tr>\n",
       "  </tbody>\n",
       "</table>\n",
       "</div>"
      ],
      "text/plain": [
       "                                                          Categories\n",
       "Bitcoin                                 Cryptocurrency, Layer 1 (L1)\n",
       "BNB                Alleged SEC Securities, Smart Contract Platfor...\n",
       "Tether             Mantle Ecosystem, Stablecoins, USD Stablecoin,...\n",
       "XRP                                                   Cryptocurrency\n",
       "USD Coin           Mantle Ecosystem, Stablecoins, USD Stablecoin,...\n",
       "Lido Staked Ether  Decentralized Finance (DeFi), Eth 2.0 Staking,...\n",
       "Cardano            Alleged SEC Securities, Smart Contract Platfor...\n",
       "Solana             Alleged SEC Securities, Smart Contract Platfor...\n",
       "Dogecoin                   Cryptocurrency, BNB Chain Ecosystem, Meme"
      ]
     },
     "execution_count": 40,
     "metadata": {},
     "output_type": "execute_result"
    }
   ],
   "source": [
    "df"
   ]
  },
  {
   "cell_type": "code",
   "execution_count": 41,
   "metadata": {},
   "outputs": [
    {
     "data": {
      "text/html": [
       "<div>\n",
       "<style scoped>\n",
       "    .dataframe tbody tr th:only-of-type {\n",
       "        vertical-align: middle;\n",
       "    }\n",
       "\n",
       "    .dataframe tbody tr th {\n",
       "        vertical-align: top;\n",
       "    }\n",
       "\n",
       "    .dataframe thead th {\n",
       "        text-align: right;\n",
       "    }\n",
       "</style>\n",
       "<table border=\"1\" class=\"dataframe\">\n",
       "  <thead>\n",
       "    <tr style=\"text-align: right;\">\n",
       "      <th></th>\n",
       "      <th>Cryptocurrency</th>\n",
       "      <th>Category</th>\n",
       "    </tr>\n",
       "  </thead>\n",
       "  <tbody>\n",
       "    <tr>\n",
       "      <th>0</th>\n",
       "      <td>Bitcoin</td>\n",
       "      <td>Cryptocurrency</td>\n",
       "    </tr>\n",
       "    <tr>\n",
       "      <th>1</th>\n",
       "      <td>Bitcoin</td>\n",
       "      <td>Layer 1 (L1)</td>\n",
       "    </tr>\n",
       "    <tr>\n",
       "      <th>2</th>\n",
       "      <td>BNB</td>\n",
       "      <td>Alleged SEC Securities</td>\n",
       "    </tr>\n",
       "    <tr>\n",
       "      <th>3</th>\n",
       "      <td>BNB</td>\n",
       "      <td>Smart Contract Platform</td>\n",
       "    </tr>\n",
       "    <tr>\n",
       "      <th>4</th>\n",
       "      <td>BNB</td>\n",
       "      <td>Exchange-based Tokens</td>\n",
       "    </tr>\n",
       "    <tr>\n",
       "      <th>...</th>\n",
       "      <td>...</td>\n",
       "      <td>...</td>\n",
       "    </tr>\n",
       "    <tr>\n",
       "      <th>67</th>\n",
       "      <td>Solana</td>\n",
       "      <td>Solana Ecosystem</td>\n",
       "    </tr>\n",
       "    <tr>\n",
       "      <th>68</th>\n",
       "      <td>Solana</td>\n",
       "      <td>Layer 1 (L1)</td>\n",
       "    </tr>\n",
       "    <tr>\n",
       "      <th>69</th>\n",
       "      <td>Dogecoin</td>\n",
       "      <td>Cryptocurrency</td>\n",
       "    </tr>\n",
       "    <tr>\n",
       "      <th>70</th>\n",
       "      <td>Dogecoin</td>\n",
       "      <td>BNB Chain Ecosystem</td>\n",
       "    </tr>\n",
       "    <tr>\n",
       "      <th>71</th>\n",
       "      <td>Dogecoin</td>\n",
       "      <td>Meme</td>\n",
       "    </tr>\n",
       "  </tbody>\n",
       "</table>\n",
       "<p>72 rows × 2 columns</p>\n",
       "</div>"
      ],
      "text/plain": [
       "   Cryptocurrency                 Category\n",
       "0         Bitcoin           Cryptocurrency\n",
       "1         Bitcoin             Layer 1 (L1)\n",
       "2             BNB   Alleged SEC Securities\n",
       "3             BNB  Smart Contract Platform\n",
       "4             BNB    Exchange-based Tokens\n",
       "..            ...                      ...\n",
       "67         Solana         Solana Ecosystem\n",
       "68         Solana             Layer 1 (L1)\n",
       "69       Dogecoin           Cryptocurrency\n",
       "70       Dogecoin      BNB Chain Ecosystem\n",
       "71       Dogecoin                     Meme\n",
       "\n",
       "[72 rows x 2 columns]"
      ]
     },
     "execution_count": 41,
     "metadata": {},
     "output_type": "execute_result"
    }
   ],
   "source": [
    "\n",
    "data = {\n",
    "    'Bitcoin': ['Cryptocurrency', 'Layer 1 (L1)'],\n",
    "    'BNB': ['Alleged SEC Securities', 'Smart Contract Platform', 'Exchange-based Tokens', 'Centralized Exchange (CEX)', 'BNB Chain Ecosystem', 'Polygon Ecosystem', 'Layer 1 (L1)', 'Avalanche Ecosystem', 'Moonriver Ecosystem', 'Ethereum Ecosystem'],\n",
    "    'Tether': ['Mantle Ecosystem', 'Stablecoins', 'USD Stablecoin', 'BNB Chain Ecosystem', 'Solana Ecosystem', 'Polygon Ecosystem', 'Gnosis Chain Ecosystem', 'Arbitrum Ecosystem', 'Avalanche Ecosystem', 'Harmony Ecosystem', 'Moonriver Ecosystem', 'Near Protocol Ecosystem', 'Fantom Ecosystem', 'Moonbeam Ecosystem', 'Tezos Ecosystem', 'Cronos Ecosystem', 'Metis Ecosystem', 'Velas Ecosystem', 'EthereumPoW Ecosystem', 'Optimism Ecosystem', 'Ethereum Ecosystem', 'Canto Ecosystem'],\n",
    "    'XRP': ['Cryptocurrency'],\n",
    "    'USD Coin': ['Mantle Ecosystem', 'Stablecoins', 'USD Stablecoin', 'BNB Chain Ecosystem', 'Solana Ecosystem', 'Polygon Ecosystem', 'Gnosis Chain Ecosystem', 'Arbitrum Ecosystem', 'Avalanche Ecosystem', 'Harmony Ecosystem', 'Moonriver Ecosystem', 'Near Protocol Ecosystem', 'Fantom Ecosystem', 'Moonbeam Ecosystem', 'Cronos Ecosystem', 'Metis Ecosystem', 'Arbitrum Nova Ecosystem', 'Velas Ecosystem', 'Optimism Ecosystem', 'Ethereum Ecosystem', 'ZkSync Ecosystem', 'Canto Ecosystem'],\n",
    "    'Lido Staked Ether': ['Decentralized Finance (DeFi)', 'Eth 2.0 Staking', 'Liquid Staking Tokens', 'Ethereum Ecosystem'],\n",
    "    'Cardano': ['Alleged SEC Securities', 'Smart Contract Platform', 'Layer 1 (L1)', 'Cardano Ecosystem'],\n",
    "    'Solana': ['Alleged SEC Securities', 'Smart Contract Platform', 'Solana Ecosystem', 'Layer 1 (L1)'],\n",
    "    'Dogecoin': ['Cryptocurrency', 'BNB Chain Ecosystem', 'Meme']\n",
    "}\n",
    "\n",
    "# Crear una lista de tuplas para cada combinación de criptomoneda y categoría\n",
    "data_tuples = [(crypto, category) for crypto, categories in data.items() for category in categories]\n",
    "\n",
    "# Crear el DataFrame a partir de la lista de tuplas\n",
    "df = pd.DataFrame(data_tuples, columns=['Cryptocurrency', 'Category'])\n",
    "\n",
    "df"
   ]
  },
  {
   "cell_type": "code",
   "execution_count": 43,
   "metadata": {},
   "outputs": [
    {
     "name": "stdout",
     "output_type": "stream",
     "text": [
      "<class 'pandas.core.frame.DataFrame'>\n",
      "RangeIndex: 72 entries, 0 to 71\n",
      "Data columns (total 2 columns):\n",
      " #   Column          Non-Null Count  Dtype \n",
      "---  ------          --------------  ----- \n",
      " 0   Cryptocurrency  72 non-null     object\n",
      " 1   Category        72 non-null     object\n",
      "dtypes: object(2)\n",
      "memory usage: 1.2+ KB\n"
     ]
    }
   ],
   "source": [
    "df.info()"
   ]
  },
  {
   "cell_type": "code",
   "execution_count": 42,
   "metadata": {},
   "outputs": [],
   "source": [
    "df.to_csv('categorias.csv', index=False)"
   ]
  },
  {
   "cell_type": "markdown",
   "metadata": {},
   "source": [
    "# Título\n",
    "Este es un párrafo de ejemplo en **Markdown**.\n",
    "\n",
    "- Lista de elementos\n",
    "- Otro elemento\n",
    "\n",
    "[Enlace](https://www.example.com)"
   ]
  }
 ],
 "metadata": {
  "kernelspec": {
   "display_name": "Python 3",
   "language": "python",
   "name": "python3"
  },
  "language_info": {
   "codemirror_mode": {
    "name": "ipython",
    "version": 3
   },
   "file_extension": ".py",
   "mimetype": "text/x-python",
   "name": "python",
   "nbconvert_exporter": "python",
   "pygments_lexer": "ipython3",
   "version": "3.11.1"
  },
  "orig_nbformat": 4
 },
 "nbformat": 4,
 "nbformat_minor": 2
}
